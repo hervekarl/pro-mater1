{
 "cells": [
  {
   "cell_type": "code",
   "execution_count": 4,
   "id": "10f0087e-6463-4b3b-9767-34f91d16cb9e",
   "metadata": {},
   "outputs": [
    {
     "name": "stdout",
     "output_type": "stream",
     "text": [
      "Collecting fastapi\n",
      "  Downloading fastapi-0.115.14-py3-none-any.whl.metadata (27 kB)\n",
      "Collecting uvicorn\n",
      "  Downloading uvicorn-0.35.0-py3-none-any.whl.metadata (6.5 kB)\n",
      "Collecting starlette<0.47.0,>=0.40.0 (from fastapi)\n",
      "  Downloading starlette-0.46.2-py3-none-any.whl.metadata (6.2 kB)\n",
      "Requirement already satisfied: pydantic!=1.8,!=1.8.1,!=2.0.0,!=2.0.1,!=2.1.0,<3.0.0,>=1.7.4 in ./anaconda3/lib/python3.12/site-packages (from fastapi) (2.8.2)\n",
      "Requirement already satisfied: typing-extensions>=4.8.0 in ./anaconda3/lib/python3.12/site-packages (from fastapi) (4.11.0)\n",
      "Requirement already satisfied: click>=7.0 in ./anaconda3/lib/python3.12/site-packages (from uvicorn) (8.1.7)\n",
      "Requirement already satisfied: h11>=0.8 in ./anaconda3/lib/python3.12/site-packages (from uvicorn) (0.14.0)\n",
      "Requirement already satisfied: annotated-types>=0.4.0 in ./anaconda3/lib/python3.12/site-packages (from pydantic!=1.8,!=1.8.1,!=2.0.0,!=2.0.1,!=2.1.0,<3.0.0,>=1.7.4->fastapi) (0.6.0)\n",
      "Requirement already satisfied: pydantic-core==2.20.1 in ./anaconda3/lib/python3.12/site-packages (from pydantic!=1.8,!=1.8.1,!=2.0.0,!=2.0.1,!=2.1.0,<3.0.0,>=1.7.4->fastapi) (2.20.1)\n",
      "Requirement already satisfied: anyio<5,>=3.6.2 in ./anaconda3/lib/python3.12/site-packages (from starlette<0.47.0,>=0.40.0->fastapi) (4.2.0)\n",
      "Requirement already satisfied: idna>=2.8 in ./anaconda3/lib/python3.12/site-packages (from anyio<5,>=3.6.2->starlette<0.47.0,>=0.40.0->fastapi) (3.7)\n",
      "Requirement already satisfied: sniffio>=1.1 in ./anaconda3/lib/python3.12/site-packages (from anyio<5,>=3.6.2->starlette<0.47.0,>=0.40.0->fastapi) (1.3.0)\n",
      "Downloading fastapi-0.115.14-py3-none-any.whl (95 kB)\n",
      "Downloading uvicorn-0.35.0-py3-none-any.whl (66 kB)\n",
      "Downloading starlette-0.46.2-py3-none-any.whl (72 kB)\n",
      "Installing collected packages: uvicorn, starlette, fastapi\n",
      "Successfully installed fastapi-0.115.14 starlette-0.46.2 uvicorn-0.35.0\n"
     ]
    }
   ],
   "source": [
    "!pip install fastapi uvicorn\n"
   ]
  },
  {
   "cell_type": "code",
   "execution_count": 1,
   "id": "fb217d6e-9736-485a-825f-d11f10526a3f",
   "metadata": {},
   "outputs": [],
   "source": [
    "!pip install fastapi uvicorn nest-asyncio -q\n",
    "\n",
    "import nest_asyncio\n",
    "import uvicorn\n",
    "from fastapi import FastAPI\n",
    "from pydantic import BaseModel\n",
    "import joblib\n",
    "import numpy as np\n",
    "from threading import Thread\n",
    "\n",
    "nest_asyncio.apply()\n",
    "\n",
    "app = FastAPI()\n",
    "\n",
    "# Chargement des modèles\n",
    "model = joblib.load(\"modele_prediction_maladie.pkl\")\n",
    "scaler = joblib.load(\"scaler.pkl\")\n",
    "ohe = joblib.load(\"onehot_encoder.pkl\")\n",
    "mlb = joblib.load(\"symptom_encoder.pkl\")\n",
    "\n",
    "# Modèle de données\n",
    "class Patient(BaseModel):\n",
    "    age: int\n",
    "    sexe: str\n",
    "    fumeur: str\n",
    "    tension: float\n",
    "    temperature: float\n",
    "    symptomes: list[str]\n",
    "\n",
    "@app.post(\"/predict\")\n",
    "def predict(patient: Patient):\n",
    "    if len(patient.symptomes) < 3:\n",
    "        return {\"error\": \"Au moins 3 symptômes requis.\"}\n",
    "\n",
    "    input_num = scaler.transform([[patient.age, patient.tension, patient.temperature]])\n",
    "    input_cat = ohe.transform([[patient.sexe, patient.fumeur]])\n",
    "    input_sympt = mlb.transform([patient.symptomes])\n",
    "    final_input = np.concatenate([input_num, input_cat, input_sympt], axis=1)\n",
    "\n",
    "    proba = model.predict_proba(final_input)[0]\n",
    "    classe = model.classes_[np.argmax(proba)]\n",
    "    return {\"maladie\": classe, \"probabilite\": float(np.max(proba))}\n",
    "\n",
    "# Lancement de FastAPI dans un thread\n",
    "def run():\n",
    "    uvicorn.run(app, host=\"0.0.0.0\", port=8000)\n",
    "\n",
    "Thread(target=run).start()\n"
   ]
  },
  {
   "cell_type": "code",
   "execution_count": null,
   "id": "2dfc94c4-8830-4f05-94fc-1ae00faccc09",
   "metadata": {},
   "outputs": [],
   "source": []
  },
  {
   "cell_type": "code",
   "execution_count": null,
   "id": "b30bf91d-4d52-4b12-9375-f3f36e6990fc",
   "metadata": {},
   "outputs": [],
   "source": []
  }
 ],
 "metadata": {
  "kernelspec": {
   "display_name": "Python 3 (ipykernel)",
   "language": "python",
   "name": "python3"
  },
  "language_info": {
   "codemirror_mode": {
    "name": "ipython",
    "version": 3
   },
   "file_extension": ".py",
   "mimetype": "text/x-python",
   "name": "python",
   "nbconvert_exporter": "python",
   "pygments_lexer": "ipython3",
   "version": "3.12.7"
  }
 },
 "nbformat": 4,
 "nbformat_minor": 5
}
