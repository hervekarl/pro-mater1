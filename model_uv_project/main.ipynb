{
 "cells": [
  {
   "cell_type": "code",
   "execution_count": null,
   "id": "10f0087e-6463-4b3b-9767-34f91d16cb9e",
   "metadata": {},
   "outputs": [
    {
     "name": "stdout",
     "output_type": "stream",
     "text": [
      "Requirement already satisfied: fastapi in /Library/Frameworks/Python.framework/Versions/3.12/lib/python3.12/site-packages (0.115.6)\n",
      "Requirement already satisfied: uvicorn in /Library/Frameworks/Python.framework/Versions/3.12/lib/python3.12/site-packages (0.34.0)\n",
      "Requirement already satisfied: starlette<0.42.0,>=0.40.0 in /Library/Frameworks/Python.framework/Versions/3.12/lib/python3.12/site-packages (from fastapi) (0.41.3)\n",
      "Requirement already satisfied: pydantic!=1.8,!=1.8.1,!=2.0.0,!=2.0.1,!=2.1.0,<3.0.0,>=1.7.4 in /Library/Frameworks/Python.framework/Versions/3.12/lib/python3.12/site-packages (from fastapi) (2.10.4)\n",
      "Requirement already satisfied: typing-extensions>=4.8.0 in /Library/Frameworks/Python.framework/Versions/3.12/lib/python3.12/site-packages (from fastapi) (4.12.2)\n",
      "Requirement already satisfied: annotated-types>=0.6.0 in /Library/Frameworks/Python.framework/Versions/3.12/lib/python3.12/site-packages (from pydantic!=1.8,!=1.8.1,!=2.0.0,!=2.0.1,!=2.1.0,<3.0.0,>=1.7.4->fastapi) (0.7.0)\n",
      "Requirement already satisfied: pydantic-core==2.27.2 in /Library/Frameworks/Python.framework/Versions/3.12/lib/python3.12/site-packages (from pydantic!=1.8,!=1.8.1,!=2.0.0,!=2.0.1,!=2.1.0,<3.0.0,>=1.7.4->fastapi) (2.27.2)\n",
      "Requirement already satisfied: anyio<5,>=3.4.0 in /Library/Frameworks/Python.framework/Versions/3.12/lib/python3.12/site-packages (from starlette<0.42.0,>=0.40.0->fastapi) (4.6.2.post1)\n",
      "Requirement already satisfied: idna>=2.8 in /Library/Frameworks/Python.framework/Versions/3.12/lib/python3.12/site-packages (from anyio<5,>=3.4.0->starlette<0.42.0,>=0.40.0->fastapi) (3.7)\n",
      "Requirement already satisfied: sniffio>=1.1 in /Library/Frameworks/Python.framework/Versions/3.12/lib/python3.12/site-packages (from anyio<5,>=3.4.0->starlette<0.42.0,>=0.40.0->fastapi) (1.3.1)\n",
      "Requirement already satisfied: click>=7.0 in /Library/Frameworks/Python.framework/Versions/3.12/lib/python3.12/site-packages (from uvicorn) (8.1.7)\n",
      "Requirement already satisfied: h11>=0.8 in /Library/Frameworks/Python.framework/Versions/3.12/lib/python3.12/site-packages (from uvicorn) (0.14.0)\n"
     ]
    }
   ],
   "source": [
    "# !pip install fastapi uvicorn\n"
   ]
  },
  {
   "cell_type": "code",
   "execution_count": null,
   "id": "a4c587ca",
   "metadata": {},
   "outputs": [],
   "source": [
    "# !pip install fastapi uvicorn nest-asyncio -q"
   ]
  },
  {
   "cell_type": "code",
   "execution_count": null,
   "id": "8abe375e",
   "metadata": {},
   "outputs": [],
   "source": []
  },
  {
   "cell_type": "code",
   "execution_count": 1,
   "id": "fb217d6e-9736-485a-825f-d11f10526a3f",
   "metadata": {},
   "outputs": [
    {
     "ename": "",
     "evalue": "",
     "output_type": "error",
     "traceback": [
      "\u001b[1;31mThe Kernel crashed while executing code in the current cell or a previous cell. \n",
      "\u001b[1;31mPlease review the code in the cell(s) to identify a possible cause of the failure. \n",
      "\u001b[1;31mClick <a href='https://aka.ms/vscodeJupyterKernelCrash'>here</a> for more info. \n",
      "\u001b[1;31mView Jupyter <a href='command:jupyter.viewOutput'>log</a> for further details."
     ]
    }
   ],
   "source": [
    "import uvicorn\n",
    "from fastapi import FastAPI\n",
    "from pydantic import BaseModel\n",
    "import joblib\n",
    "import numpy as np\n",
    "import threading\n",
    "import asyncio\n",
    "import nest_asyncio\n",
    "\n",
    "app = FastAPI()\n",
    "\n",
    "# Chargement des modèles\n",
    "model = joblib.load(\"modele_prediction_maladie.pkl\")\n",
    "scaler = joblib.load(\"scaler.pkl\")\n",
    "ohe = joblib.load(\"onehot_encoder.pkl\")\n",
    "mlb = joblib.load(\"symptom_encoder.pkl\")\n",
    "\n",
    "# Modèle de données\n",
    "class Patient(BaseModel):\n",
    "    age: int\n",
    "    sexe: str\n",
    "    fumeur: str\n",
    "    tension: float\n",
    "    temperature: float\n",
    "    symptomes: list[str]\n",
    "\n",
    "@app.post(\"/predict\")\n",
    "def predict(patient: Patient):\n",
    "    if len(patient.symptomes) < 3:\n",
    "        return {\"error\": \"Au moins 3 symptômes requis.\"}\n",
    "\n",
    "    input_num = scaler.transform([[patient.age, patient.tension, patient.temperature]])\n",
    "    input_cat = ohe.transform([[patient.sexe, patient.fumeur]])\n",
    "    input_sympt = mlb.transform([patient.symptomes])\n",
    "    final_input = np.concatenate([input_num, input_cat, input_sympt], axis=1)\n",
    "\n",
    "    proba = model.predict_proba(final_input)[0]\n",
    "    classe = model.classes_[np.argmax(proba)]\n",
    "    return {\"maladie\": classe, \"probabilite\": float(np.max(proba))}\n",
    "\n",
    "\n",
    "def run_server():\n",
    "    config = uvicorn.Config(\n",
    "        app,\n",
    "        host=\"0.0.0.0\",\n",
    "        port=8006,\n",
    "        loop=\"asyncio\",\n",
    "        reload=True\n",
    "    )\n",
    "    server = uvicorn.Server(config)\n",
    "    \n",
    "    # Création d'une nouvelle event loop pour ce thread\n",
    "    loop = asyncio.new_event_loop()\n",
    "    asyncio.set_event_loop(loop)\n",
    "    \n",
    "    try:\n",
    "        loop.run_until_complete(server.serve())\n",
    "    finally:\n",
    "        loop.close()\n",
    "\n",
    "\n",
    "\n"
   ]
  },
  {
   "cell_type": "code",
   "execution_count": 1,
   "id": "5b7da5d6",
   "metadata": {},
   "outputs": [
    {
     "ename": "NameError",
     "evalue": "name 'threading' is not defined",
     "output_type": "error",
     "traceback": [
      "\u001b[0;31m---------------------------------------------------------------------------\u001b[0m",
      "\u001b[0;31mNameError\u001b[0m                                 Traceback (most recent call last)",
      "Cell \u001b[0;32mIn[1], line 5\u001b[0m\n\u001b[1;32m      1\u001b[0m \u001b[38;5;66;03m# Lancement du serveur dans un thread\u001b[39;00m\n\u001b[1;32m      3\u001b[0m \u001b[38;5;28;01mif\u001b[39;00m \u001b[38;5;18m__name__\u001b[39m \u001b[38;5;241m==\u001b[39m \u001b[38;5;124m\"\u001b[39m\u001b[38;5;124m__main__\u001b[39m\u001b[38;5;124m\"\u001b[39m:\n\u001b[1;32m      4\u001b[0m     \u001b[38;5;66;03m# Lancement du serveur dans un thread démon\u001b[39;00m\n\u001b[0;32m----> 5\u001b[0m     server_thread \u001b[38;5;241m=\u001b[39m \u001b[43mthreading\u001b[49m\u001b[38;5;241m.\u001b[39mThread(\n\u001b[1;32m      6\u001b[0m         target\u001b[38;5;241m=\u001b[39mrun_server,\n\u001b[1;32m      7\u001b[0m         daemon\u001b[38;5;241m=\u001b[39m\u001b[38;5;28;01mTrue\u001b[39;00m,\n\u001b[1;32m      8\u001b[0m         name\u001b[38;5;241m=\u001b[39m\u001b[38;5;124m\"\u001b[39m\u001b[38;5;124mFastAPI-Server\u001b[39m\u001b[38;5;124m\"\u001b[39m\n\u001b[1;32m      9\u001b[0m     )\n\u001b[1;32m     10\u001b[0m     server_thread\u001b[38;5;241m.\u001b[39mstart()\n\u001b[1;32m     12\u001b[0m     \u001b[38;5;28mprint\u001b[39m(\u001b[38;5;124m\"\u001b[39m\u001b[38;5;124mServeur FastAPI démarré sur http://0.0.0.0:8006\u001b[39m\u001b[38;5;124m\"\u001b[39m)\n",
      "\u001b[0;31mNameError\u001b[0m: name 'threading' is not defined"
     ]
    }
   ],
   "source": [
    "# Lancement du serveur dans un thread\n",
    "\n",
    "if __name__ == \"__main__\":\n",
    "    # Lancement du serveur dans un thread démon\n",
    "    server_thread = threading.Thread(\n",
    "        target=run_server,\n",
    "        daemon=True,\n",
    "        name=\"FastAPI-Server\"\n",
    "    )\n",
    "    server_thread.start()\n",
    "    \n",
    "    print(\"Serveur FastAPI démarré sur http://0.0.0.0:8006\")\n",
    "    \n",
    "    try:\n",
    "        # Maintenir le thread principal actif\n",
    "        while True:\n",
    "            # Vous pourriez ajouter ici d'autres logiques de supervision\n",
    "            server_thread.join(0.1)  # Timeout court pour permettre l'interruption\n",
    "            if not server_thread.is_alive():\n",
    "                print(\"Le serveur a arrêté de fonctionner\")\n",
    "                break\n",
    "    except KeyboardInterrupt:\n",
    "        print(\"\\nArrêt demandé par l'utilisateur\")\n",
    "    finally:\n",
    "        print(\"Nettoyage terminé\")"
   ]
  }
 ],
 "metadata": {
  "kernelspec": {
   "display_name": "Python 3",
   "language": "python",
   "name": "python3"
  },
  "language_info": {
   "codemirror_mode": {
    "name": "ipython",
    "version": 3
   },
   "file_extension": ".py",
   "mimetype": "text/x-python",
   "name": "python",
   "nbconvert_exporter": "python",
   "pygments_lexer": "ipython3",
   "version": "3.12.7"
  }
 },
 "nbformat": 4,
 "nbformat_minor": 5
}
